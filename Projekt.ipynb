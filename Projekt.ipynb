{
 "cells": [
  {
   "cell_type": "markdown",
   "metadata": {},
   "source": [
    "Turkiye Student Evaluation Data Set "
   ]
  },
  {
   "cell_type": "markdown",
   "metadata": {},
   "source": [
    "# Wczytujemy dane z pliku\n",
    "\n",
    "Zbiór Turkiye Student Evaluation Data Set  \n"
   ]
  },
  {
   "cell_type": "code",
   "execution_count": 1,
   "metadata": {},
   "outputs": [],
   "source": [
    "import pandas as pd\n",
    "import matplotlib.pyplot as plt\n",
    "import seaborn as sns\n",
    "import numpy as np\n",
    "%matplotlib inline"
   ]
  },
  {
   "cell_type": "code",
   "execution_count": 2,
   "metadata": {},
   "outputs": [],
   "source": [
    "r = pd.read_csv('turkiye-student-evaluation.csv')"
   ]
  },
  {
   "cell_type": "markdown",
   "metadata": {},
   "source": [
    "# Oglądamy wstępnie dane"
   ]
  },
  {
   "cell_type": "code",
   "execution_count": 3,
   "metadata": {},
   "outputs": [
    {
     "data": {
      "text/plain": [
       "5820"
      ]
     },
     "execution_count": 3,
     "metadata": {},
     "output_type": "execute_result"
    }
   ],
   "source": [
    "len(r)"
   ]
  },
  {
   "cell_type": "code",
   "execution_count": 4,
   "metadata": {},
   "outputs": [
    {
     "data": {
      "text/html": [
       "<div>\n",
       "<style scoped>\n",
       "    .dataframe tbody tr th:only-of-type {\n",
       "        vertical-align: middle;\n",
       "    }\n",
       "\n",
       "    .dataframe tbody tr th {\n",
       "        vertical-align: top;\n",
       "    }\n",
       "\n",
       "    .dataframe thead th {\n",
       "        text-align: right;\n",
       "    }\n",
       "</style>\n",
       "<table border=\"1\" class=\"dataframe\">\n",
       "  <thead>\n",
       "    <tr style=\"text-align: right;\">\n",
       "      <th></th>\n",
       "      <th>instr</th>\n",
       "      <th>class</th>\n",
       "      <th>nb.repeat</th>\n",
       "      <th>attendance</th>\n",
       "      <th>difficulty</th>\n",
       "      <th>Q1</th>\n",
       "      <th>Q2</th>\n",
       "      <th>Q3</th>\n",
       "      <th>Q4</th>\n",
       "      <th>Q5</th>\n",
       "      <th>...</th>\n",
       "      <th>Q19</th>\n",
       "      <th>Q20</th>\n",
       "      <th>Q21</th>\n",
       "      <th>Q22</th>\n",
       "      <th>Q23</th>\n",
       "      <th>Q24</th>\n",
       "      <th>Q25</th>\n",
       "      <th>Q26</th>\n",
       "      <th>Q27</th>\n",
       "      <th>Q28</th>\n",
       "    </tr>\n",
       "  </thead>\n",
       "  <tbody>\n",
       "    <tr>\n",
       "      <th>0</th>\n",
       "      <td>1</td>\n",
       "      <td>2</td>\n",
       "      <td>1</td>\n",
       "      <td>0</td>\n",
       "      <td>4</td>\n",
       "      <td>3</td>\n",
       "      <td>3</td>\n",
       "      <td>3</td>\n",
       "      <td>3</td>\n",
       "      <td>3</td>\n",
       "      <td>...</td>\n",
       "      <td>3</td>\n",
       "      <td>3</td>\n",
       "      <td>3</td>\n",
       "      <td>3</td>\n",
       "      <td>3</td>\n",
       "      <td>3</td>\n",
       "      <td>3</td>\n",
       "      <td>3</td>\n",
       "      <td>3</td>\n",
       "      <td>3</td>\n",
       "    </tr>\n",
       "    <tr>\n",
       "      <th>1</th>\n",
       "      <td>1</td>\n",
       "      <td>2</td>\n",
       "      <td>1</td>\n",
       "      <td>1</td>\n",
       "      <td>3</td>\n",
       "      <td>3</td>\n",
       "      <td>3</td>\n",
       "      <td>3</td>\n",
       "      <td>3</td>\n",
       "      <td>3</td>\n",
       "      <td>...</td>\n",
       "      <td>3</td>\n",
       "      <td>3</td>\n",
       "      <td>3</td>\n",
       "      <td>3</td>\n",
       "      <td>3</td>\n",
       "      <td>3</td>\n",
       "      <td>3</td>\n",
       "      <td>3</td>\n",
       "      <td>3</td>\n",
       "      <td>3</td>\n",
       "    </tr>\n",
       "    <tr>\n",
       "      <th>2</th>\n",
       "      <td>1</td>\n",
       "      <td>2</td>\n",
       "      <td>1</td>\n",
       "      <td>2</td>\n",
       "      <td>4</td>\n",
       "      <td>5</td>\n",
       "      <td>5</td>\n",
       "      <td>5</td>\n",
       "      <td>5</td>\n",
       "      <td>5</td>\n",
       "      <td>...</td>\n",
       "      <td>5</td>\n",
       "      <td>5</td>\n",
       "      <td>5</td>\n",
       "      <td>5</td>\n",
       "      <td>5</td>\n",
       "      <td>5</td>\n",
       "      <td>5</td>\n",
       "      <td>5</td>\n",
       "      <td>5</td>\n",
       "      <td>5</td>\n",
       "    </tr>\n",
       "    <tr>\n",
       "      <th>3</th>\n",
       "      <td>1</td>\n",
       "      <td>2</td>\n",
       "      <td>1</td>\n",
       "      <td>1</td>\n",
       "      <td>3</td>\n",
       "      <td>3</td>\n",
       "      <td>3</td>\n",
       "      <td>3</td>\n",
       "      <td>3</td>\n",
       "      <td>3</td>\n",
       "      <td>...</td>\n",
       "      <td>3</td>\n",
       "      <td>3</td>\n",
       "      <td>3</td>\n",
       "      <td>3</td>\n",
       "      <td>3</td>\n",
       "      <td>3</td>\n",
       "      <td>3</td>\n",
       "      <td>3</td>\n",
       "      <td>3</td>\n",
       "      <td>3</td>\n",
       "    </tr>\n",
       "    <tr>\n",
       "      <th>4</th>\n",
       "      <td>1</td>\n",
       "      <td>2</td>\n",
       "      <td>1</td>\n",
       "      <td>0</td>\n",
       "      <td>1</td>\n",
       "      <td>1</td>\n",
       "      <td>1</td>\n",
       "      <td>1</td>\n",
       "      <td>1</td>\n",
       "      <td>1</td>\n",
       "      <td>...</td>\n",
       "      <td>1</td>\n",
       "      <td>1</td>\n",
       "      <td>1</td>\n",
       "      <td>1</td>\n",
       "      <td>1</td>\n",
       "      <td>1</td>\n",
       "      <td>1</td>\n",
       "      <td>1</td>\n",
       "      <td>1</td>\n",
       "      <td>1</td>\n",
       "    </tr>\n",
       "  </tbody>\n",
       "</table>\n",
       "<p>5 rows × 33 columns</p>\n",
       "</div>"
      ],
      "text/plain": [
       "   instr  class  nb.repeat  attendance  difficulty  Q1  Q2  Q3  Q4  Q5  ...  \\\n",
       "0      1      2          1           0           4   3   3   3   3   3  ...   \n",
       "1      1      2          1           1           3   3   3   3   3   3  ...   \n",
       "2      1      2          1           2           4   5   5   5   5   5  ...   \n",
       "3      1      2          1           1           3   3   3   3   3   3  ...   \n",
       "4      1      2          1           0           1   1   1   1   1   1  ...   \n",
       "\n",
       "   Q19  Q20  Q21  Q22  Q23  Q24  Q25  Q26  Q27  Q28  \n",
       "0    3    3    3    3    3    3    3    3    3    3  \n",
       "1    3    3    3    3    3    3    3    3    3    3  \n",
       "2    5    5    5    5    5    5    5    5    5    5  \n",
       "3    3    3    3    3    3    3    3    3    3    3  \n",
       "4    1    1    1    1    1    1    1    1    1    1  \n",
       "\n",
       "[5 rows x 33 columns]"
      ]
     },
     "execution_count": 4,
     "metadata": {},
     "output_type": "execute_result"
    }
   ],
   "source": [
    "r.head()"
   ]
  },
  {
   "cell_type": "code",
   "execution_count": 5,
   "metadata": {
    "scrolled": true
   },
   "outputs": [
    {
     "data": {
      "text/html": [
       "<div>\n",
       "<style scoped>\n",
       "    .dataframe tbody tr th:only-of-type {\n",
       "        vertical-align: middle;\n",
       "    }\n",
       "\n",
       "    .dataframe tbody tr th {\n",
       "        vertical-align: top;\n",
       "    }\n",
       "\n",
       "    .dataframe thead th {\n",
       "        text-align: right;\n",
       "    }\n",
       "</style>\n",
       "<table border=\"1\" class=\"dataframe\">\n",
       "  <thead>\n",
       "    <tr style=\"text-align: right;\">\n",
       "      <th></th>\n",
       "      <th>instr</th>\n",
       "      <th>class</th>\n",
       "      <th>nb.repeat</th>\n",
       "      <th>attendance</th>\n",
       "      <th>difficulty</th>\n",
       "      <th>Q1</th>\n",
       "      <th>Q2</th>\n",
       "      <th>Q3</th>\n",
       "      <th>Q4</th>\n",
       "      <th>Q5</th>\n",
       "      <th>...</th>\n",
       "      <th>Q19</th>\n",
       "      <th>Q20</th>\n",
       "      <th>Q21</th>\n",
       "      <th>Q22</th>\n",
       "      <th>Q23</th>\n",
       "      <th>Q24</th>\n",
       "      <th>Q25</th>\n",
       "      <th>Q26</th>\n",
       "      <th>Q27</th>\n",
       "      <th>Q28</th>\n",
       "    </tr>\n",
       "  </thead>\n",
       "  <tbody>\n",
       "    <tr>\n",
       "      <th>5815</th>\n",
       "      <td>3</td>\n",
       "      <td>13</td>\n",
       "      <td>1</td>\n",
       "      <td>0</td>\n",
       "      <td>1</td>\n",
       "      <td>1</td>\n",
       "      <td>1</td>\n",
       "      <td>1</td>\n",
       "      <td>1</td>\n",
       "      <td>1</td>\n",
       "      <td>...</td>\n",
       "      <td>1</td>\n",
       "      <td>1</td>\n",
       "      <td>1</td>\n",
       "      <td>1</td>\n",
       "      <td>1</td>\n",
       "      <td>1</td>\n",
       "      <td>1</td>\n",
       "      <td>1</td>\n",
       "      <td>1</td>\n",
       "      <td>1</td>\n",
       "    </tr>\n",
       "    <tr>\n",
       "      <th>5816</th>\n",
       "      <td>3</td>\n",
       "      <td>13</td>\n",
       "      <td>1</td>\n",
       "      <td>3</td>\n",
       "      <td>4</td>\n",
       "      <td>4</td>\n",
       "      <td>4</td>\n",
       "      <td>4</td>\n",
       "      <td>4</td>\n",
       "      <td>4</td>\n",
       "      <td>...</td>\n",
       "      <td>5</td>\n",
       "      <td>5</td>\n",
       "      <td>5</td>\n",
       "      <td>5</td>\n",
       "      <td>4</td>\n",
       "      <td>5</td>\n",
       "      <td>5</td>\n",
       "      <td>5</td>\n",
       "      <td>5</td>\n",
       "      <td>5</td>\n",
       "    </tr>\n",
       "    <tr>\n",
       "      <th>5817</th>\n",
       "      <td>3</td>\n",
       "      <td>13</td>\n",
       "      <td>1</td>\n",
       "      <td>0</td>\n",
       "      <td>4</td>\n",
       "      <td>5</td>\n",
       "      <td>5</td>\n",
       "      <td>5</td>\n",
       "      <td>5</td>\n",
       "      <td>5</td>\n",
       "      <td>...</td>\n",
       "      <td>5</td>\n",
       "      <td>5</td>\n",
       "      <td>5</td>\n",
       "      <td>5</td>\n",
       "      <td>5</td>\n",
       "      <td>5</td>\n",
       "      <td>5</td>\n",
       "      <td>5</td>\n",
       "      <td>5</td>\n",
       "      <td>5</td>\n",
       "    </tr>\n",
       "    <tr>\n",
       "      <th>5818</th>\n",
       "      <td>3</td>\n",
       "      <td>13</td>\n",
       "      <td>1</td>\n",
       "      <td>1</td>\n",
       "      <td>2</td>\n",
       "      <td>1</td>\n",
       "      <td>1</td>\n",
       "      <td>1</td>\n",
       "      <td>1</td>\n",
       "      <td>1</td>\n",
       "      <td>...</td>\n",
       "      <td>1</td>\n",
       "      <td>1</td>\n",
       "      <td>1</td>\n",
       "      <td>1</td>\n",
       "      <td>1</td>\n",
       "      <td>1</td>\n",
       "      <td>1</td>\n",
       "      <td>1</td>\n",
       "      <td>1</td>\n",
       "      <td>1</td>\n",
       "    </tr>\n",
       "    <tr>\n",
       "      <th>5819</th>\n",
       "      <td>3</td>\n",
       "      <td>13</td>\n",
       "      <td>1</td>\n",
       "      <td>1</td>\n",
       "      <td>2</td>\n",
       "      <td>1</td>\n",
       "      <td>1</td>\n",
       "      <td>1</td>\n",
       "      <td>1</td>\n",
       "      <td>1</td>\n",
       "      <td>...</td>\n",
       "      <td>1</td>\n",
       "      <td>1</td>\n",
       "      <td>1</td>\n",
       "      <td>1</td>\n",
       "      <td>1</td>\n",
       "      <td>1</td>\n",
       "      <td>1</td>\n",
       "      <td>1</td>\n",
       "      <td>1</td>\n",
       "      <td>1</td>\n",
       "    </tr>\n",
       "  </tbody>\n",
       "</table>\n",
       "<p>5 rows × 33 columns</p>\n",
       "</div>"
      ],
      "text/plain": [
       "      instr  class  nb.repeat  attendance  difficulty  Q1  Q2  Q3  Q4  Q5  \\\n",
       "5815      3     13          1           0           1   1   1   1   1   1   \n",
       "5816      3     13          1           3           4   4   4   4   4   4   \n",
       "5817      3     13          1           0           4   5   5   5   5   5   \n",
       "5818      3     13          1           1           2   1   1   1   1   1   \n",
       "5819      3     13          1           1           2   1   1   1   1   1   \n",
       "\n",
       "      ...  Q19  Q20  Q21  Q22  Q23  Q24  Q25  Q26  Q27  Q28  \n",
       "5815  ...    1    1    1    1    1    1    1    1    1    1  \n",
       "5816  ...    5    5    5    5    4    5    5    5    5    5  \n",
       "5817  ...    5    5    5    5    5    5    5    5    5    5  \n",
       "5818  ...    1    1    1    1    1    1    1    1    1    1  \n",
       "5819  ...    1    1    1    1    1    1    1    1    1    1  \n",
       "\n",
       "[5 rows x 33 columns]"
      ]
     },
     "execution_count": 5,
     "metadata": {},
     "output_type": "execute_result"
    }
   ],
   "source": [
    "r.tail()"
   ]
  },
  {
   "cell_type": "code",
   "execution_count": 6,
   "metadata": {},
   "outputs": [
    {
     "data": {
      "text/html": [
       "<div>\n",
       "<style scoped>\n",
       "    .dataframe tbody tr th:only-of-type {\n",
       "        vertical-align: middle;\n",
       "    }\n",
       "\n",
       "    .dataframe tbody tr th {\n",
       "        vertical-align: top;\n",
       "    }\n",
       "\n",
       "    .dataframe thead th {\n",
       "        text-align: right;\n",
       "    }\n",
       "</style>\n",
       "<table border=\"1\" class=\"dataframe\">\n",
       "  <thead>\n",
       "    <tr style=\"text-align: right;\">\n",
       "      <th></th>\n",
       "      <th>count</th>\n",
       "      <th>mean</th>\n",
       "      <th>std</th>\n",
       "      <th>min</th>\n",
       "      <th>25%</th>\n",
       "      <th>50%</th>\n",
       "      <th>75%</th>\n",
       "      <th>max</th>\n",
       "    </tr>\n",
       "  </thead>\n",
       "  <tbody>\n",
       "    <tr>\n",
       "      <th>instr</th>\n",
       "      <td>5820.0</td>\n",
       "      <td>2.485567</td>\n",
       "      <td>0.718473</td>\n",
       "      <td>1.0</td>\n",
       "      <td>2.0</td>\n",
       "      <td>3.0</td>\n",
       "      <td>3.0</td>\n",
       "      <td>3.0</td>\n",
       "    </tr>\n",
       "    <tr>\n",
       "      <th>class</th>\n",
       "      <td>5820.0</td>\n",
       "      <td>7.276289</td>\n",
       "      <td>3.688175</td>\n",
       "      <td>1.0</td>\n",
       "      <td>4.0</td>\n",
       "      <td>7.0</td>\n",
       "      <td>10.0</td>\n",
       "      <td>13.0</td>\n",
       "    </tr>\n",
       "    <tr>\n",
       "      <th>nb.repeat</th>\n",
       "      <td>5820.0</td>\n",
       "      <td>1.214089</td>\n",
       "      <td>0.532376</td>\n",
       "      <td>1.0</td>\n",
       "      <td>1.0</td>\n",
       "      <td>1.0</td>\n",
       "      <td>1.0</td>\n",
       "      <td>3.0</td>\n",
       "    </tr>\n",
       "    <tr>\n",
       "      <th>attendance</th>\n",
       "      <td>5820.0</td>\n",
       "      <td>1.675601</td>\n",
       "      <td>1.474975</td>\n",
       "      <td>0.0</td>\n",
       "      <td>0.0</td>\n",
       "      <td>1.0</td>\n",
       "      <td>3.0</td>\n",
       "      <td>4.0</td>\n",
       "    </tr>\n",
       "    <tr>\n",
       "      <th>difficulty</th>\n",
       "      <td>5820.0</td>\n",
       "      <td>2.783505</td>\n",
       "      <td>1.348987</td>\n",
       "      <td>1.0</td>\n",
       "      <td>1.0</td>\n",
       "      <td>3.0</td>\n",
       "      <td>4.0</td>\n",
       "      <td>5.0</td>\n",
       "    </tr>\n",
       "    <tr>\n",
       "      <th>Q1</th>\n",
       "      <td>5820.0</td>\n",
       "      <td>2.929897</td>\n",
       "      <td>1.341077</td>\n",
       "      <td>1.0</td>\n",
       "      <td>2.0</td>\n",
       "      <td>3.0</td>\n",
       "      <td>4.0</td>\n",
       "      <td>5.0</td>\n",
       "    </tr>\n",
       "    <tr>\n",
       "      <th>Q2</th>\n",
       "      <td>5820.0</td>\n",
       "      <td>3.073883</td>\n",
       "      <td>1.285251</td>\n",
       "      <td>1.0</td>\n",
       "      <td>2.0</td>\n",
       "      <td>3.0</td>\n",
       "      <td>4.0</td>\n",
       "      <td>5.0</td>\n",
       "    </tr>\n",
       "    <tr>\n",
       "      <th>Q3</th>\n",
       "      <td>5820.0</td>\n",
       "      <td>3.178694</td>\n",
       "      <td>1.253567</td>\n",
       "      <td>1.0</td>\n",
       "      <td>2.0</td>\n",
       "      <td>3.0</td>\n",
       "      <td>4.0</td>\n",
       "      <td>5.0</td>\n",
       "    </tr>\n",
       "    <tr>\n",
       "      <th>Q4</th>\n",
       "      <td>5820.0</td>\n",
       "      <td>3.082474</td>\n",
       "      <td>1.284594</td>\n",
       "      <td>1.0</td>\n",
       "      <td>2.0</td>\n",
       "      <td>3.0</td>\n",
       "      <td>4.0</td>\n",
       "      <td>5.0</td>\n",
       "    </tr>\n",
       "    <tr>\n",
       "      <th>Q5</th>\n",
       "      <td>5820.0</td>\n",
       "      <td>3.105842</td>\n",
       "      <td>1.278989</td>\n",
       "      <td>1.0</td>\n",
       "      <td>2.0</td>\n",
       "      <td>3.0</td>\n",
       "      <td>4.0</td>\n",
       "      <td>5.0</td>\n",
       "    </tr>\n",
       "    <tr>\n",
       "      <th>Q6</th>\n",
       "      <td>5820.0</td>\n",
       "      <td>3.107388</td>\n",
       "      <td>1.280807</td>\n",
       "      <td>1.0</td>\n",
       "      <td>2.0</td>\n",
       "      <td>3.0</td>\n",
       "      <td>4.0</td>\n",
       "      <td>5.0</td>\n",
       "    </tr>\n",
       "    <tr>\n",
       "      <th>Q7</th>\n",
       "      <td>5820.0</td>\n",
       "      <td>3.066323</td>\n",
       "      <td>1.279097</td>\n",
       "      <td>1.0</td>\n",
       "      <td>2.0</td>\n",
       "      <td>3.0</td>\n",
       "      <td>4.0</td>\n",
       "      <td>5.0</td>\n",
       "    </tr>\n",
       "    <tr>\n",
       "      <th>Q8</th>\n",
       "      <td>5820.0</td>\n",
       "      <td>3.041924</td>\n",
       "      <td>1.283481</td>\n",
       "      <td>1.0</td>\n",
       "      <td>2.0</td>\n",
       "      <td>3.0</td>\n",
       "      <td>4.0</td>\n",
       "      <td>5.0</td>\n",
       "    </tr>\n",
       "    <tr>\n",
       "      <th>Q9</th>\n",
       "      <td>5820.0</td>\n",
       "      <td>3.165979</td>\n",
       "      <td>1.268930</td>\n",
       "      <td>1.0</td>\n",
       "      <td>2.0</td>\n",
       "      <td>3.0</td>\n",
       "      <td>4.0</td>\n",
       "      <td>5.0</td>\n",
       "    </tr>\n",
       "    <tr>\n",
       "      <th>Q10</th>\n",
       "      <td>5820.0</td>\n",
       "      <td>3.090722</td>\n",
       "      <td>1.275309</td>\n",
       "      <td>1.0</td>\n",
       "      <td>2.0</td>\n",
       "      <td>3.0</td>\n",
       "      <td>4.0</td>\n",
       "      <td>5.0</td>\n",
       "    </tr>\n",
       "    <tr>\n",
       "      <th>Q11</th>\n",
       "      <td>5820.0</td>\n",
       "      <td>3.183849</td>\n",
       "      <td>1.295443</td>\n",
       "      <td>1.0</td>\n",
       "      <td>2.0</td>\n",
       "      <td>3.0</td>\n",
       "      <td>4.0</td>\n",
       "      <td>5.0</td>\n",
       "    </tr>\n",
       "    <tr>\n",
       "      <th>Q12</th>\n",
       "      <td>5820.0</td>\n",
       "      <td>3.035567</td>\n",
       "      <td>1.305772</td>\n",
       "      <td>1.0</td>\n",
       "      <td>2.0</td>\n",
       "      <td>3.0</td>\n",
       "      <td>4.0</td>\n",
       "      <td>5.0</td>\n",
       "    </tr>\n",
       "    <tr>\n",
       "      <th>Q13</th>\n",
       "      <td>5820.0</td>\n",
       "      <td>3.242784</td>\n",
       "      <td>1.264201</td>\n",
       "      <td>1.0</td>\n",
       "      <td>2.0</td>\n",
       "      <td>3.0</td>\n",
       "      <td>4.0</td>\n",
       "      <td>5.0</td>\n",
       "    </tr>\n",
       "    <tr>\n",
       "      <th>Q14</th>\n",
       "      <td>5820.0</td>\n",
       "      <td>3.290893</td>\n",
       "      <td>1.255373</td>\n",
       "      <td>1.0</td>\n",
       "      <td>3.0</td>\n",
       "      <td>3.0</td>\n",
       "      <td>4.0</td>\n",
       "      <td>5.0</td>\n",
       "    </tr>\n",
       "    <tr>\n",
       "      <th>Q15</th>\n",
       "      <td>5820.0</td>\n",
       "      <td>3.287285</td>\n",
       "      <td>1.253122</td>\n",
       "      <td>1.0</td>\n",
       "      <td>3.0</td>\n",
       "      <td>3.0</td>\n",
       "      <td>4.0</td>\n",
       "      <td>5.0</td>\n",
       "    </tr>\n",
       "    <tr>\n",
       "      <th>Q16</th>\n",
       "      <td>5820.0</td>\n",
       "      <td>3.169588</td>\n",
       "      <td>1.288015</td>\n",
       "      <td>1.0</td>\n",
       "      <td>2.0</td>\n",
       "      <td>3.0</td>\n",
       "      <td>4.0</td>\n",
       "      <td>5.0</td>\n",
       "    </tr>\n",
       "    <tr>\n",
       "      <th>Q17</th>\n",
       "      <td>5820.0</td>\n",
       "      <td>3.398454</td>\n",
       "      <td>1.267530</td>\n",
       "      <td>1.0</td>\n",
       "      <td>3.0</td>\n",
       "      <td>4.0</td>\n",
       "      <td>4.0</td>\n",
       "      <td>5.0</td>\n",
       "    </tr>\n",
       "    <tr>\n",
       "      <th>Q18</th>\n",
       "      <td>5820.0</td>\n",
       "      <td>3.222509</td>\n",
       "      <td>1.279799</td>\n",
       "      <td>1.0</td>\n",
       "      <td>2.0</td>\n",
       "      <td>3.0</td>\n",
       "      <td>4.0</td>\n",
       "      <td>5.0</td>\n",
       "    </tr>\n",
       "    <tr>\n",
       "      <th>Q19</th>\n",
       "      <td>5820.0</td>\n",
       "      <td>3.261684</td>\n",
       "      <td>1.268442</td>\n",
       "      <td>1.0</td>\n",
       "      <td>3.0</td>\n",
       "      <td>3.0</td>\n",
       "      <td>4.0</td>\n",
       "      <td>5.0</td>\n",
       "    </tr>\n",
       "    <tr>\n",
       "      <th>Q20</th>\n",
       "      <td>5820.0</td>\n",
       "      <td>3.285395</td>\n",
       "      <td>1.276848</td>\n",
       "      <td>1.0</td>\n",
       "      <td>3.0</td>\n",
       "      <td>3.0</td>\n",
       "      <td>4.0</td>\n",
       "      <td>5.0</td>\n",
       "    </tr>\n",
       "    <tr>\n",
       "      <th>Q21</th>\n",
       "      <td>5820.0</td>\n",
       "      <td>3.307388</td>\n",
       "      <td>1.269974</td>\n",
       "      <td>1.0</td>\n",
       "      <td>3.0</td>\n",
       "      <td>3.0</td>\n",
       "      <td>4.0</td>\n",
       "      <td>5.0</td>\n",
       "    </tr>\n",
       "    <tr>\n",
       "      <th>Q22</th>\n",
       "      <td>5820.0</td>\n",
       "      <td>3.317526</td>\n",
       "      <td>1.268358</td>\n",
       "      <td>1.0</td>\n",
       "      <td>3.0</td>\n",
       "      <td>3.0</td>\n",
       "      <td>4.0</td>\n",
       "      <td>5.0</td>\n",
       "    </tr>\n",
       "    <tr>\n",
       "      <th>Q23</th>\n",
       "      <td>5820.0</td>\n",
       "      <td>3.201890</td>\n",
       "      <td>1.272590</td>\n",
       "      <td>1.0</td>\n",
       "      <td>2.0</td>\n",
       "      <td>3.0</td>\n",
       "      <td>4.0</td>\n",
       "      <td>5.0</td>\n",
       "    </tr>\n",
       "    <tr>\n",
       "      <th>Q24</th>\n",
       "      <td>5820.0</td>\n",
       "      <td>3.166838</td>\n",
       "      <td>1.275909</td>\n",
       "      <td>1.0</td>\n",
       "      <td>2.0</td>\n",
       "      <td>3.0</td>\n",
       "      <td>4.0</td>\n",
       "      <td>5.0</td>\n",
       "    </tr>\n",
       "    <tr>\n",
       "      <th>Q25</th>\n",
       "      <td>5820.0</td>\n",
       "      <td>3.312543</td>\n",
       "      <td>1.257286</td>\n",
       "      <td>1.0</td>\n",
       "      <td>3.0</td>\n",
       "      <td>3.0</td>\n",
       "      <td>4.0</td>\n",
       "      <td>5.0</td>\n",
       "    </tr>\n",
       "    <tr>\n",
       "      <th>Q26</th>\n",
       "      <td>5820.0</td>\n",
       "      <td>3.222165</td>\n",
       "      <td>1.270695</td>\n",
       "      <td>1.0</td>\n",
       "      <td>2.0</td>\n",
       "      <td>3.0</td>\n",
       "      <td>4.0</td>\n",
       "      <td>5.0</td>\n",
       "    </tr>\n",
       "    <tr>\n",
       "      <th>Q27</th>\n",
       "      <td>5820.0</td>\n",
       "      <td>3.154811</td>\n",
       "      <td>1.291872</td>\n",
       "      <td>1.0</td>\n",
       "      <td>2.0</td>\n",
       "      <td>3.0</td>\n",
       "      <td>4.0</td>\n",
       "      <td>5.0</td>\n",
       "    </tr>\n",
       "    <tr>\n",
       "      <th>Q28</th>\n",
       "      <td>5820.0</td>\n",
       "      <td>3.308076</td>\n",
       "      <td>1.278709</td>\n",
       "      <td>1.0</td>\n",
       "      <td>3.0</td>\n",
       "      <td>3.0</td>\n",
       "      <td>4.0</td>\n",
       "      <td>5.0</td>\n",
       "    </tr>\n",
       "  </tbody>\n",
       "</table>\n",
       "</div>"
      ],
      "text/plain": [
       "             count      mean       std  min  25%  50%   75%   max\n",
       "instr       5820.0  2.485567  0.718473  1.0  2.0  3.0   3.0   3.0\n",
       "class       5820.0  7.276289  3.688175  1.0  4.0  7.0  10.0  13.0\n",
       "nb.repeat   5820.0  1.214089  0.532376  1.0  1.0  1.0   1.0   3.0\n",
       "attendance  5820.0  1.675601  1.474975  0.0  0.0  1.0   3.0   4.0\n",
       "difficulty  5820.0  2.783505  1.348987  1.0  1.0  3.0   4.0   5.0\n",
       "Q1          5820.0  2.929897  1.341077  1.0  2.0  3.0   4.0   5.0\n",
       "Q2          5820.0  3.073883  1.285251  1.0  2.0  3.0   4.0   5.0\n",
       "Q3          5820.0  3.178694  1.253567  1.0  2.0  3.0   4.0   5.0\n",
       "Q4          5820.0  3.082474  1.284594  1.0  2.0  3.0   4.0   5.0\n",
       "Q5          5820.0  3.105842  1.278989  1.0  2.0  3.0   4.0   5.0\n",
       "Q6          5820.0  3.107388  1.280807  1.0  2.0  3.0   4.0   5.0\n",
       "Q7          5820.0  3.066323  1.279097  1.0  2.0  3.0   4.0   5.0\n",
       "Q8          5820.0  3.041924  1.283481  1.0  2.0  3.0   4.0   5.0\n",
       "Q9          5820.0  3.165979  1.268930  1.0  2.0  3.0   4.0   5.0\n",
       "Q10         5820.0  3.090722  1.275309  1.0  2.0  3.0   4.0   5.0\n",
       "Q11         5820.0  3.183849  1.295443  1.0  2.0  3.0   4.0   5.0\n",
       "Q12         5820.0  3.035567  1.305772  1.0  2.0  3.0   4.0   5.0\n",
       "Q13         5820.0  3.242784  1.264201  1.0  2.0  3.0   4.0   5.0\n",
       "Q14         5820.0  3.290893  1.255373  1.0  3.0  3.0   4.0   5.0\n",
       "Q15         5820.0  3.287285  1.253122  1.0  3.0  3.0   4.0   5.0\n",
       "Q16         5820.0  3.169588  1.288015  1.0  2.0  3.0   4.0   5.0\n",
       "Q17         5820.0  3.398454  1.267530  1.0  3.0  4.0   4.0   5.0\n",
       "Q18         5820.0  3.222509  1.279799  1.0  2.0  3.0   4.0   5.0\n",
       "Q19         5820.0  3.261684  1.268442  1.0  3.0  3.0   4.0   5.0\n",
       "Q20         5820.0  3.285395  1.276848  1.0  3.0  3.0   4.0   5.0\n",
       "Q21         5820.0  3.307388  1.269974  1.0  3.0  3.0   4.0   5.0\n",
       "Q22         5820.0  3.317526  1.268358  1.0  3.0  3.0   4.0   5.0\n",
       "Q23         5820.0  3.201890  1.272590  1.0  2.0  3.0   4.0   5.0\n",
       "Q24         5820.0  3.166838  1.275909  1.0  2.0  3.0   4.0   5.0\n",
       "Q25         5820.0  3.312543  1.257286  1.0  3.0  3.0   4.0   5.0\n",
       "Q26         5820.0  3.222165  1.270695  1.0  2.0  3.0   4.0   5.0\n",
       "Q27         5820.0  3.154811  1.291872  1.0  2.0  3.0   4.0   5.0\n",
       "Q28         5820.0  3.308076  1.278709  1.0  3.0  3.0   4.0   5.0"
      ]
     },
     "execution_count": 6,
     "metadata": {},
     "output_type": "execute_result"
    }
   ],
   "source": [
    "r.describe().T"
   ]
  },
  {
   "cell_type": "code",
   "execution_count": 7,
   "metadata": {},
   "outputs": [
    {
     "data": {
      "text/plain": [
       "0       0\n",
       "1       1\n",
       "2       2\n",
       "3       1\n",
       "4       0\n",
       "5       3\n",
       "6       1\n",
       "7       1\n",
       "8       1\n",
       "9       4\n",
       "10      3\n",
       "11      3\n",
       "12      2\n",
       "13      1\n",
       "14      2\n",
       "15      3\n",
       "16      3\n",
       "17      1\n",
       "18      1\n",
       "19      2\n",
       "20      2\n",
       "21      2\n",
       "22      3\n",
       "23      2\n",
       "24      1\n",
       "25      0\n",
       "26      1\n",
       "27      2\n",
       "28      3\n",
       "29      3\n",
       "       ..\n",
       "5790    4\n",
       "5791    1\n",
       "5792    3\n",
       "5793    4\n",
       "5794    0\n",
       "5795    0\n",
       "5796    1\n",
       "5797    1\n",
       "5798    1\n",
       "5799    0\n",
       "5800    3\n",
       "5801    3\n",
       "5802    0\n",
       "5803    3\n",
       "5804    4\n",
       "5805    1\n",
       "5806    0\n",
       "5807    2\n",
       "5808    3\n",
       "5809    0\n",
       "5810    1\n",
       "5811    4\n",
       "5812    0\n",
       "5813    3\n",
       "5814    2\n",
       "5815    0\n",
       "5816    3\n",
       "5817    0\n",
       "5818    1\n",
       "5819    1\n",
       "Name: attendance, Length: 5820, dtype: int64"
      ]
     },
     "execution_count": 7,
     "metadata": {},
     "output_type": "execute_result"
    }
   ],
   "source": [
    "r['attendance']"
   ]
  },
  {
   "cell_type": "code",
   "execution_count": 8,
   "metadata": {},
   "outputs": [
    {
     "data": {
      "text/plain": [
       "instr         int64\n",
       "class         int64\n",
       "nb.repeat     int64\n",
       "attendance    int64\n",
       "difficulty    int64\n",
       "Q1            int64\n",
       "Q2            int64\n",
       "Q3            int64\n",
       "Q4            int64\n",
       "Q5            int64\n",
       "Q6            int64\n",
       "Q7            int64\n",
       "Q8            int64\n",
       "Q9            int64\n",
       "Q10           int64\n",
       "Q11           int64\n",
       "Q12           int64\n",
       "Q13           int64\n",
       "Q14           int64\n",
       "Q15           int64\n",
       "Q16           int64\n",
       "Q17           int64\n",
       "Q18           int64\n",
       "Q19           int64\n",
       "Q20           int64\n",
       "Q21           int64\n",
       "Q22           int64\n",
       "Q23           int64\n",
       "Q24           int64\n",
       "Q25           int64\n",
       "Q26           int64\n",
       "Q27           int64\n",
       "Q28           int64\n",
       "dtype: object"
      ]
     },
     "execution_count": 8,
     "metadata": {},
     "output_type": "execute_result"
    }
   ],
   "source": [
    "r.dtypes"
   ]
  },
  {
   "cell_type": "markdown",
   "metadata": {},
   "source": [
    "# Który prowadzący otrzymał najwięcej odpowiedzi od studentów"
   ]
  },
  {
   "cell_type": "code",
   "execution_count": 9,
   "metadata": {
    "scrolled": true
   },
   "outputs": [
    {
     "data": {
      "text/plain": [
       "Text(0, 0.5, 'Liczba odpowiedzi')"
      ]
     },
     "execution_count": 9,
     "metadata": {},
     "output_type": "execute_result"
    },
    {
     "data": {
      "image/png": "[encoded data removed]",
      "text/plain": [
       "<Figure size 720x288 with 1 Axes>"
      ]
     },
     "metadata": {
      "needs_background": "light"
     },
     "output_type": "display_data"
    }
   ],
   "source": [
    "plt.figure(figsize=(10, 4))\n",
    "plot1 = sns.countplot(x='instr', data = r, palette=\"Blues_d\")\n",
    "plot1.set_xlabel('Instructor Id')\n",
    "plot1.set_ylabel('Liczba odpowiedzi')"
   ]
  },
  {
   "cell_type": "markdown",
   "metadata": {},
   "source": [
    "Z tego wykresu wynika, że najwiecej studentów udzieliło odpowiedzi na pytania dotyczące kursów prowadzonych  przez instruktora o id = 3\n"
   ]
  },
  {
   "cell_type": "markdown",
   "metadata": {},
   "source": [
    "# Średni poziom trudności dla każdego kursu"
   ]
  },
  {
   "cell_type": "markdown",
   "metadata": {},
   "source": [
    "Na poczatku dzielimy zbiór na podzbiory względem kursów. W każdym podzbiorze wyliczamy średnią dla atrybutu difficulty."
   ]
  },
  {
   "cell_type": "code",
   "execution_count": 26,
   "metadata": {},
   "outputs": [
    {
     "name": "stdout",
     "output_type": "stream",
     "text": [
      "   class      mean\n",
      "12    13  2.461356\n",
      "0      1  2.488449\n",
      "5      6  2.602151\n",
      "3      4  2.647059\n",
      "8      9  2.653240\n",
      "9     10  2.678571\n",
      "2      3  2.803097\n",
      "4      5  2.900915\n",
      "11    12  2.902439\n",
      "7      8  3.000000\n",
      "10    11  3.018595\n",
      "1      2  3.442857\n",
      "6      7  3.823529\n"
     ]
    }
   ],
   "source": [
    "questionmean = []\n",
    "classlist = []\n",
    "\n",
    "totalplotdata = pd.DataFrame(list(zip(classlist, questionmean)), columns =['class', 'mean'])\n",
    "\n",
    "for class_num in range(1,14):\n",
    "    \n",
    "    class_data = r[(r['class'])==class_num]\n",
    "    classlist.append(class_num)\n",
    "    questionmean.append(class_data['difficulty'].mean())\n",
    "    \n",
    "plotdata = pd.DataFrame(list(zip(classlist, questionmean)), columns =['class', 'mean'])\n",
    "totalplotdata = totalplotdata.append(plotdata)\n",
    "totalplotdata_sorted = totalplotdata.sort_values(by=['mean'])\n",
    "print(totalplotdata_sorted)"
   ]
  },
  {
   "cell_type": "markdown",
   "metadata": {},
   "source": [
    "Program zwraca numer kursu i średnią wartość dla poziumu trudnośći kursu."
   ]
  },
  {
   "cell_type": "code",
   "execution_count": 28,
   "metadata": {},
   "outputs": [
    {
     "data": {
      "text/plain": [
       "Text(0, 0.5, 'Mean')"
      ]
     },
     "execution_count": 28,
     "metadata": {},
     "output_type": "execute_result"
    },
    {
     "data": {
      "image/png": "[encoded data removed]",
      "text/plain": [
       "<Figure size 720x432 with 1 Axes>"
      ]
     },
     "metadata": {
      "needs_background": "light"
     },
     "output_type": "display_data"
    }
   ],
   "source": [
    "plt.figure(figsize=(10, 6))\n",
    "plot2 = sns.barplot(x='class', y='mean', data = totalplotdata_sorted, palette=\"Blues_d\", order=totalplotdata_sorted['class'])\n",
    "plot2.set_xlabel('Course')\n",
    "plot2.set_ylabel('Mean')"
   ]
  },
  {
   "cell_type": "markdown",
   "metadata": {},
   "source": [
    "Z wykresu wynika, że według studentów najtrudniejszy kurs to kurs numer 7, a najłatwiejszy to kurs numer 13."
   ]
  },
  {
   "cell_type": "markdown",
   "metadata": {},
   "source": [
    "# Obserwacje odstające dla pytania numer 28"
   ]
  },
  {
   "cell_type": "code",
   "execution_count": 21,
   "metadata": {
    "scrolled": true
   },
   "outputs": [
    {
     "data": {
      "text/plain": [
       "<matplotlib.axes._subplots.AxesSubplot at 0x18050acad68>"
      ]
     },
     "execution_count": 21,
     "metadata": {},
     "output_type": "execute_result"
    },
    {
     "data": {
      "image/png": "[encoded data removed]",
      "text/plain": [
       "<Figure size 432x288 with 1 Axes>"
      ]
     },
     "metadata": {
      "needs_background": "light"
     },
     "output_type": "display_data"
    }
   ],
   "source": [
    "r['Q28'].plot.box()"
   ]
  },
  {
   "cell_type": "markdown",
   "metadata": {},
   "source": [
    "Z wykresu widać, że mamy operacje odstające. Jest ich mało i przyjmują wartość 1"
   ]
  },
  {
   "cell_type": "markdown",
   "metadata": {},
   "source": [
    "# Zależność pomiędzy sposobem traktowania studenta a jego zadowoleniem z uczestnictwa w kursie"
   ]
  },
  {
   "cell_type": "code",
   "execution_count": 13,
   "metadata": {},
   "outputs": [
    {
     "data": {
      "text/plain": [
       "Text(27.125, 0.5, 'Student był zadowolony z zajęć i brał w nich czynny udział')"
      ]
     },
     "execution_count": 13,
     "metadata": {},
     "output_type": "execute_result"
    },
    {
     "data": {
      "image/png": "[encoded data removed]",
      "text/plain": [
       "<Figure size 432x432 with 3 Axes>"
      ]
     },
     "metadata": {
      "needs_background": "light"
     },
     "output_type": "display_data"
    }
   ],
   "source": [
    "plot3 = sns.jointplot(r['Q28'], r['Q9'], kind = 'hex')\n",
    "plot3.ax_joint.set_xlabel('Instruktor traktował studentów w odpowiedni / obiektywny sposób')\n",
    "plot3.ax_joint.set_ylabel('Student był zadowolony z zajęć i brał w nich czynny udział')"
   ]
  },
  {
   "cell_type": "code",
   "execution_count": 14,
   "metadata": {},
   "outputs": [
    {
     "data": {
      "text/plain": [
       "Text(0, 0.5, 'Student był zadowolony z zajęć i brał w nich czynny udział')"
      ]
     },
     "execution_count": 14,
     "metadata": {},
     "output_type": "execute_result"
    },
    {
     "data": {
      "image/png": "[encoded data removed]",
      "text/plain": [
       "<Figure size 432x288 with 1 Axes>"
      ]
     },
     "metadata": {
      "needs_background": "light"
     },
     "output_type": "display_data"
    }
   ],
   "source": [
    "plot4 = sns.regplot(r['Q28'], r['Q9'])\n",
    "plot4.set_xlabel('Instruktor traktował studentów w odpowiedni / obiektywny sposób')\n",
    "plot4.set_ylabel('Student był zadowolony z zajęć i brał w nich czynny udział')"
   ]
  },
  {
   "cell_type": "markdown",
   "metadata": {},
   "source": [
    "Z wykresu wynika, że wraz ze wzrostem oceny obiektywnego traktowania studentów przez instruktora wzrasta poziom zadowolenia studentów oraz przejawiają czynny udział w zajęciach."
   ]
  },
  {
   "cell_type": "markdown",
   "metadata": {},
   "source": [
    "# Ocena instruktorów pod względem komunikacji"
   ]
  },
  {
   "cell_type": "markdown",
   "metadata": {},
   "source": [
    "Wykres zawiera zbiór średnich z odpowiedzi na pytania odnośnie jakości komunikacji nauczyciela."
   ]
  },
  {
   "cell_type": "code",
   "execution_count": 15,
   "metadata": {},
   "outputs": [],
   "source": [
    "questionmeans = []\n",
    "inslist = []\n",
    "questions = []\n",
    "totalplotdata = pd.DataFrame(list(zip(inslist,questions,questionmeans))\n",
    "                      ,columns=['instruktor','questions', 'mean'])\n",
    "for ins_num in range(1,4):\n",
    "    ins_data = r[(r[\"instr\"]==ins_num)]\n",
    "    questionmeans = []\n",
    "    inslist = []\n",
    "    questions = []\n",
    "    \n",
    "    \n",
    "    questions.append(18)\n",
    "    questions.append(20)\n",
    "    questions.append(21)\n",
    "    questions.append(22)\n",
    "    questions.append(25)\n",
    "    \n",
    "    for col in range(17,33):\n",
    "        questionmeans.append(ins_data.iloc[:,col].mean())\n",
    "    inslist += 16 * [ins_num] \n",
    "    plotdata = pd.DataFrame(list(zip(inslist,questions,questionmeans))\n",
    "                      ,columns=['instruktor','questions', 'mean'])\n",
    "    totalplotdata = totalplotdata.append(plotdata, ignore_index=True)"
   ]
  },
  {
   "cell_type": "code",
   "execution_count": 16,
   "metadata": {},
   "outputs": [
    {
     "data": {
      "text/plain": [
       "Text(0, 0.5, 'Średnia')"
      ]
     },
     "execution_count": 16,
     "metadata": {},
     "output_type": "execute_result"
    },
    {
     "data": {
      "image/png": "[encoded data removed]",
      "text/plain": [
       "<Figure size 1440x360 with 1 Axes>"
      ]
     },
     "metadata": {
      "needs_background": "light"
     },
     "output_type": "display_data"
    }
   ],
   "source": [
    "plt.figure(figsize=(20, 5))\n",
    "sns.pointplot(x=\"questions\", y=\"mean\", data=totalplotdata, hue=\"instruktor\", palette=\"Blues_d\")\n",
    "plt.xlabel('Pytania dotyczące komunikacji')\n",
    "plt.ylabel('Średnia')"
   ]
  },
  {
   "cell_type": "code",
   "execution_count": 17,
   "metadata": {},
   "outputs": [],
   "source": [
    "# Pytanie 18 - Jak oceniasz poziom wypowiedzi prowadzącego?\n",
    "# Pytanie 20 - Czy prowadzący chętnie pomaga studentom?\n",
    "# Pytanie 21 - Czy nauczyciel jest przyjazny i pozytywnie nastawiony?\n",
    "# Pytanie 22 - Czy nauczyciel był otwarty na poglądy studentów?\n",
    "# Pytanie 23 - Czy instruktor aktywnie nakłaniał studentów do uczestnictwa w kursie?"
   ]
  },
  {
   "cell_type": "markdown",
   "metadata": {},
   "source": [
    "Z wykresu wynika, że nauczyciel numer 2 został najlepiej oceniony przez uczniów pod względem komunikacji. Najsłabiej wypadł nauczyciel numer 3."
   ]
  },
  {
   "cell_type": "markdown",
   "metadata": {},
   "source": [
    "# Poziom trudności przedmiotu a ilość nieobecności"
   ]
  },
  {
   "cell_type": "code",
   "execution_count": 18,
   "metadata": {},
   "outputs": [
    {
     "name": "stdout",
     "output_type": "stream",
     "text": [
      "  difficulty      mean\n",
      "0          1  0.476543\n",
      "1          2  1.814208\n",
      "2          3  2.189402\n",
      "3          4  2.215510\n",
      "4          5  2.125767\n"
     ]
    }
   ],
   "source": [
    "questionmean = []\n",
    "classlist = []\n",
    "\n",
    "totalplotdata = pd.DataFrame(list(zip(classlist, questionmean)), columns =['difficulty', 'mean'])\n",
    "\n",
    "for class_num in range(1,6):\n",
    "    \n",
    "    class_data = r[(r['difficulty'])==class_num]\n",
    "    classlist.append(class_num)\n",
    "    questionmean.append(class_data['attendance'].mean())\n",
    "    \n",
    "plotdata = pd.DataFrame(list(zip(classlist, questionmean)), columns =['difficulty', 'mean'])\n",
    "totalplotdata = totalplotdata.append(plotdata)\n",
    "print(totalplotdata)"
   ]
  },
  {
   "cell_type": "code",
   "execution_count": 19,
   "metadata": {},
   "outputs": [
    {
     "data": {
      "text/plain": [
       "<Figure size 720x432 with 0 Axes>"
      ]
     },
     "metadata": {},
     "output_type": "display_data"
    },
    {
     "data": {
      "image/png": "[encoded data removed]",
      "text/plain": [
       "<Figure size 360x360 with 1 Axes>"
      ]
     },
     "metadata": {
      "needs_background": "light"
     },
     "output_type": "display_data"
    }
   ],
   "source": [
    "plt.figure(figsize=(10, 6))\n",
    "plot2 = sns.catplot(x='difficulty', y='mean', data = totalplotdata, palette=\"Blues_d\")\n",
    "plot2.set_axis_labels(\"Poziom trudności\", \"Średnia nieobecności\");"
   ]
  },
  {
   "cell_type": "markdown",
   "metadata": {},
   "source": [
    "Z wykresu wynika, że na przedmiotach najłatwiejszych poziom nieobecności jest znikomy."
   ]
  }
 ],
 "metadata": {
  "kernelspec": {
   "display_name": "Python 3",
   "language": "python",
   "name": "python3"
  },
  "language_info": {
   "codemirror_mode": {
    "name": "ipython",
    "version": 3
   },
   "file_extension": ".py",
   "mimetype": "text/x-python",
   "name": "python",
   "nbconvert_exporter": "python",
   "pygments_lexer": "ipython3",
   "version": "3.7.3"
  }
 },
 "nbformat": 4,
 "nbformat_minor": 2
}
